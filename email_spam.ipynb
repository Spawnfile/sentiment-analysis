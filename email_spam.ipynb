{
 "cells": [
  {
   "cell_type": "code",
   "execution_count": null,
   "metadata": {},
   "outputs": [],
   "source": [
    "# https://www.kaggle.com/code/abdmental01/nlp-email-spam-detection-a-beginner-s-guide#The-End-%7C-Upvote-If-you-found-Notebook-Useful"
   ]
  },
  {
   "cell_type": "code",
   "execution_count": null,
   "metadata": {},
   "outputs": [],
   "source": [
    "import numpy as np\n",
    "import matplotlib.pyplot as plt\n",
    "import seaborn as sns\n",
    "# Punctuations\n",
    "import string\n",
    "# Pandas\n",
    "import pandas as pd\n",
    "# Remove Stopwords\n",
    "from nltk.corpus import stopwords \n",
    "# Regular Expressions\n",
    "import re\n",
    "# Import PorterStemmer from NLTK Library\n",
    "from nltk.stem.porter import PorterStemmer\n",
    "# Models \n",
    "from sklearn.linear_model import LogisticRegression\n",
    "from sklearn.svm import SVC\n",
    "from sklearn.naive_bayes import GaussianNB , MultinomialNB , BernoulliNB\n",
    "from sklearn.tree import DecisionTreeClassifier\n",
    "from sklearn.neighbors import KNeighborsClassifier\n",
    "from sklearn.ensemble import RandomForestClassifier\n",
    "from sklearn.ensemble import AdaBoostClassifier\n",
    "from sklearn.ensemble import BaggingClassifier\n",
    "from sklearn.ensemble import ExtraTreesClassifier\n",
    "from sklearn.ensemble import GradientBoostingClassifier\n",
    "from xgboost import XGBClassifier\n",
    "# Metrix and Train Test\n",
    "from sklearn.metrics import *\n",
    "from sklearn.model_selection import train_test_split\n",
    "from sklearn.feature_extraction.text import CountVectorizer\n",
    "from sklearn.feature_extraction.text import TfidfVectorizer\n",
    "\n",
    "df_train = pd.read_csv('data/mail_data.csv')\n",
    "df_train.head()"
   ]
  },
  {
   "cell_type": "code",
   "execution_count": null,
   "metadata": {},
   "outputs": [],
   "source": [
    "print(f'Null Values in Train Dataset is : {df_train.isnull().sum().sum()}') # null check"
   ]
  },
  {
   "cell_type": "code",
   "execution_count": null,
   "metadata": {},
   "outputs": [],
   "source": [
    "print(f\"Duplicates values in Train Dataset is : {df_train.duplicated().sum()}\") # duplicated check"
   ]
  },
  {
   "cell_type": "code",
   "execution_count": null,
   "metadata": {},
   "outputs": [],
   "source": [
    "df_train.drop_duplicates(inplace=True)"
   ]
  },
  {
   "cell_type": "code",
   "execution_count": null,
   "metadata": {},
   "outputs": [],
   "source": [
    "df_train.isnull().sum()\n"
   ]
  },
  {
   "cell_type": "markdown",
   "metadata": {},
   "source": [
    "## Text Preprocessing"
   ]
  },
  {
   "cell_type": "code",
   "execution_count": null,
   "metadata": {},
   "outputs": [],
   "source": [
    "df_train['Message'] = df_train['Message'].str.lower()\n",
    "df_train['Message'] = df_train['Message'].str.replace('#','')\n",
    "df_train['Message'] = df_train['Message'].str.replace('@','')\n",
    "df_train['Message'] = df_train['Message'].str.replace(r'^https?:\\/\\/.*[\\r\\n]*','')\n",
    "\n",
    "import string\n",
    "df_train['Message'] = df_train['Message'].str.translate(str.maketrans('', '', string.punctuation))\n",
    "stop_words = stopwords.words('english')\n",
    "df_train['Message'] = df_train['Message'].apply(lambda x : ' '.join([word for word in x.split()if word not in (stop_words)]))\n",
    "\n",
    "from nltk.tokenize import sent_tokenize\n",
    "df_train['text_sent_token'] = df_train['Message'].apply(sent_tokenize)\n",
    "\n",
    "import nltk\n",
    "nltk.download('punkt')\n",
    "nltk.download('stopwords')\n",
    "nltk.download('wordnet')\n",
    "\n",
    "stemmer = PorterStemmer()\n",
    "def stem_words(text):\n",
    "    return \" \".join([stemmer.stem(word) for word in text.split()])\n",
    "\n",
    "df_train['stem_msg'] = df_train['Message'].apply(stem_words)\n",
    "df_train.head()"
   ]
  },
  {
   "cell_type": "markdown",
   "metadata": {},
   "source": [
    "## Vectorizing Arrays"
   ]
  },
  {
   "cell_type": "code",
   "execution_count": null,
   "metadata": {},
   "outputs": [],
   "source": [
    "cv = CountVectorizer()\n",
    "X = cv.fit_transform(df_train['stem_msg']).toarray()\n",
    "\n",
    "y = df_train['Category']\n",
    "\n",
    "print(\"X shape -> \", X.shape)\n",
    "print(\"y shape -> \", y.shape)\n",
    "\n",
    "from sklearn.preprocessing import LabelEncoder\n",
    "le = LabelEncoder()\n",
    "y = le.fit_transform(y)"
   ]
  },
  {
   "cell_type": "code",
   "execution_count": null,
   "metadata": {},
   "outputs": [],
   "source": [
    "X_train, X_test, y_train, y_test = train_test_split(X, y, test_size=0.2, random_state=0)\n",
    "svc = SVC(kernel='sigmoid', gamma=1.0)\n",
    "knc = KNeighborsClassifier()\n",
    "mnb = MultinomialNB()\n",
    "dtc = DecisionTreeClassifier(max_depth=5)\n",
    "lrc = LogisticRegression(solver='liblinear', penalty='l1')\n",
    "rfc = RandomForestClassifier(n_estimators=50, random_state=2)\n",
    "abc = AdaBoostClassifier(n_estimators=50, random_state=2)\n",
    "etc = ExtraTreesClassifier(n_estimators=50, random_state=2)\n",
    "xgb = XGBClassifier(n_estimators=50, random_state=2)\n",
    "\n",
    "svc = SVC(kernel='sigmoid', gamma=1.0)\n",
    "knc = KNeighborsClassifier()\n",
    "mnb = MultinomialNB()\n",
    "dtc = DecisionTreeClassifier(max_depth=5)\n",
    "lrc = LogisticRegression(solver='liblinear', penalty='l1')\n",
    "rfc = RandomForestClassifier(n_estimators=50, random_state=2)\n",
    "abc = AdaBoostClassifier(n_estimators=50, random_state=2)\n",
    "etc = ExtraTreesClassifier(n_estimators=50, random_state=2)\n",
    "xgb = XGBClassifier(n_estimators=50,random_state=2)\n",
    "\n",
    "svc.fit(X_train, y_train)\n",
    "svc_pred = svc.predict(X_test)\n",
    "\n",
    "knc.fit(X_train, y_train)\n",
    "knn_pred = knc.predict(X_test)\n",
    "\n",
    "mnb.fit(X_train, y_train)\n",
    "mnb_pred = mnb.predict(X_test)\n",
    "\n",
    "dtc.fit(X_train, y_train)\n",
    "dtc_pred = dtc.predict(X_test)\n",
    "\n",
    "lrc.fit(X_train, y_train)\n",
    "lrc_pred = lrc.predict(X_test)\n",
    "\n",
    "rfc.fit(X_train, y_train)\n",
    "rfc_pred = rfc.predict(X_test)\n",
    "\n",
    "abc.fit(X_train, y_train)\n",
    "abc_pred = abc.predict(X_test)\n",
    "\n",
    "etc.fit(X_train, y_train)\n",
    "etc_pred = etc.predict(X_test)\n",
    "\n",
    "xgb.fit(X_train, y_train)\n",
    "xgb_pred = xgb.predict(X_test)"
   ]
  },
  {
   "cell_type": "code",
   "execution_count": null,
   "metadata": {},
   "outputs": [],
   "source": [
    "svc.fit(X_train ,y_train)\n",
    "svc_pred = svc.predict(X_test)\n",
    "knc.fit(X_train ,y_train)\n",
    "knn_pred = knc.predict(X_test)\n",
    "mnb.fit(X_train ,y_train)\n",
    "mnb_pred = mnb.predict(X_test)\n",
    "dtc.fit(X_train ,y_train)\n",
    "dtc_pred = dtc.predict(X_test)\n",
    "lrc.fit(X_train ,y_train)\n",
    "lrc_pred = lrc.predict(X_test)\n",
    "rfc.fit(X_train ,y_train)\n",
    "rfc_pred = rfc.predict(X_test)\n",
    "abc.fit(X_train ,y_train)\n",
    "abc_pred = abc.predict(X_test)\n",
    "etc.fit(X_train ,y_train)\n",
    "etc_pred = etc.predict(X_test)\n",
    "xgb.fit(X_train ,y_train)\n",
    "xgb_pred = xgb.predict(X_test)"
   ]
  },
  {
   "cell_type": "code",
   "execution_count": null,
   "metadata": {},
   "outputs": [],
   "source": [
    "from sklearn.metrics import accuracy_score, precision_score, confusion_matrix\n",
    "\n",
    "def evaluate(y_test, y_pred):\n",
    "    accuracy = accuracy_score(y_test, y_pred)\n",
    "    precision = precision_score(y_test, y_pred)\n",
    "    confusion = confusion_matrix(y_test, y_pred)\n",
    "    \n",
    "    return accuracy, precision, confusion\n",
    "\n",
    "\n",
    "accuracy_SVC, precision_SVC, confusion_SVC = evaluate(y_test, svc_pred)\n",
    "print(f\"The Accuracy Score Of SVC is {accuracy_SVC}, Precision Is {precision_SVC},\\nConfusion Matrix is \\n{confusion_SVC} \")\n",
    "\n",
    "accuracy_KNN, precision_KNN, confusion_KNN = evaluate(y_test, knn_pred)\n",
    "print(f\"The Accuracy Score Of KNN is {accuracy_KNN}, Precision Is {precision_KNN},\\nConfusion Matrix is \\n{confusion_KNN} \")\n",
    "\n",
    "accuracy_MNB, precision_MNB, confusion_MNB = evaluate(y_test, mnb_pred)\n",
    "print(f\"The Accuracy Score Of MultinomialNB is {accuracy_MNB}, Precision Is {precision_MNB},\\nConfusion Matrix is \\n{confusion_MNB} \")\n",
    "\n",
    "accuracy_DTC, precision_DTC, confusion_DTC = evaluate(y_test, dtc_pred)\n",
    "print(f\"The Accuracy Score Of Decision Tree is {accuracy_DTC}, Precision Is {precision_DTC},\\nConfusion Matrix is \\n{confusion_DTC} \")\n",
    "\n",
    "accuracy_LR, precision_LR, confusion_LR = evaluate(y_test, lrc_pred)\n",
    "print(f\"The Accuracy Score Of Logistic Regression is {accuracy_LR}, Precision Is {precision_LR},\\nConfusion Matrix is \\n{confusion_LR} \")\n",
    "\n",
    "accuracy_RF, precision_RF, confusion_RF = evaluate(y_test, rfc_pred)\n",
    "print(f\"The Accuracy Score Of Random Forest Classifier is {accuracy_RF}, Precision Is {precision_RF},\\nConfusion Matrix is \\n{confusion_RF} \")\n",
    "\n",
    "accuracy_ADC, precision_ADC, confusion_ADC = evaluate(y_test, abc_pred)\n",
    "print(f\"The Accuracy Score Of AdaBoost Classifier is {accuracy_ADC}, Precision Is {precision_ADC},\\nConfusion Matrix is \\n{confusion_ADC} \")\n",
    "\n",
    "accuracy_ETC, precision_ETC, confusion_ETC = evaluate(y_test, etc_pred)\n",
    "print(f\"The Accuracy Score Of Extra Tree Classifier is {accuracy_ETC}, Precision Is {precision_ETC},\\nConfusion Matrix is \\n{confusion_ETC} \")\n",
    "\n",
    "accuracy_XGB, precision_XGB, confusion_XGB = evaluate(y_test, xgb_pred)\n",
    "print(f\"The Accuracy Score Of XGBoost Classifier is {accuracy_XGB}, Precision Is {precision_XGB},\\nConfusion Matrix is \\n{confusion_XGB} \")"
   ]
  },
  {
   "cell_type": "code",
   "execution_count": null,
   "metadata": {},
   "outputs": [],
   "source": []
  }
 ],
 "metadata": {
  "kernelspec": {
   "display_name": "Python 3",
   "language": "python",
   "name": "python3"
  },
  "language_info": {
   "codemirror_mode": {
    "name": "ipython",
    "version": 3
   },
   "file_extension": ".py",
   "mimetype": "text/x-python",
   "name": "python",
   "nbconvert_exporter": "python",
   "pygments_lexer": "ipython3",
   "version": "3.10.12"
  }
 },
 "nbformat": 4,
 "nbformat_minor": 2
}
